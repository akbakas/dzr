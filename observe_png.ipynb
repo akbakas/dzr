{
 "cells": [
  {
   "cell_type": "code",
   "execution_count": 2,
   "id": "691cd67d",
   "metadata": {},
   "outputs": [],
   "source": [
    "import cv2\n",
    "import matplotlib.pyplot as plt\n",
    "import numpy as np\n",
    "import os\n",
    "import glob\n",
    "\n",
    "import matplotlib"
   ]
  },
  {
   "cell_type": "code",
   "execution_count": 3,
   "id": "96809f7a",
   "metadata": {},
   "outputs": [],
   "source": [
    "matplotlib.rcParams[\"figure.figsize\"] = (16, 16)"
   ]
  },
  {
   "cell_type": "code",
   "execution_count": 8,
   "id": "7680a1b7",
   "metadata": {},
   "outputs": [],
   "source": [
    "imgnames = glob.glob('/media/akhan/samsung_evo_plus_970/rzd/data/train/images/*')\n",
    "masknames = glob.glob('/media/akhan/samsung_evo_plus_970/rzd/data/train/mask/*')\n",
    "\n",
    "assert len(imgnames) == len(masknames)"
   ]
  },
  {
   "cell_type": "code",
   "execution_count": 14,
   "id": "4507bc55",
   "metadata": {},
   "outputs": [],
   "source": [
    "classes = []\n",
    "for mpath in masknames:\n",
    "    mask = cv2.imread(mpath)\n",
    "    cls = np.unique(mask)\n",
    "    classes.append(cls)\n",
    "    "
   ]
  },
  {
   "cell_type": "code",
   "execution_count": 25,
   "id": "4b5b336d",
   "metadata": {},
   "outputs": [],
   "source": [
    "clsdict = {\"background\": 0, \"main\": 0, \"side\": 0, \"train\": 0}"
   ]
  },
  {
   "cell_type": "code",
   "execution_count": 26,
   "id": "a6afe437",
   "metadata": {},
   "outputs": [],
   "source": [
    "for cls in classes:\n",
    "    for c in cls:\n",
    "        if c == 0:\n",
    "            clsdict[\"background\"] += 1\n",
    "        elif c == 6:\n",
    "            clsdict[\"side\"] += 1\n",
    "        elif c == 7:\n",
    "            clsdict[\"main\"] += 1\n",
    "        elif c == 10:\n",
    "            clsdict[\"train\"] += 1\n",
    "        else:\n",
    "            print(\"WTF\")"
   ]
  },
  {
   "cell_type": "code",
   "execution_count": 27,
   "id": "32d6173b",
   "metadata": {},
   "outputs": [
    {
     "data": {
      "text/plain": [
       "{'background': 7383, 'main': 7380, 'side': 6254, 'train': 3810}"
      ]
     },
     "execution_count": 27,
     "metadata": {},
     "output_type": "execute_result"
    }
   ],
   "source": [
    "clsdict"
   ]
  },
  {
   "cell_type": "code",
   "execution_count": 5,
   "id": "09ab41b2",
   "metadata": {
    "scrolled": false
   },
   "outputs": [],
   "source": [
    "# plt.imshow(img)\n",
    "# plt.imshow(mask[..., 0] == 6, alpha=0.2, cmap='Accent')\n",
    "# plt.imshow(mask[..., 0] == 7, alpha=0.2, cmap='Blues')\n",
    "# plt.imshow(mask[..., 0] == 10, alpha=0.2, cmap='Reds')"
   ]
  }
 ],
 "metadata": {
  "kernelspec": {
   "display_name": "Python 3 (ipykernel)",
   "language": "python",
   "name": "python3"
  },
  "language_info": {
   "codemirror_mode": {
    "name": "ipython",
    "version": 3
   },
   "file_extension": ".py",
   "mimetype": "text/x-python",
   "name": "python",
   "nbconvert_exporter": "python",
   "pygments_lexer": "ipython3",
   "version": "3.9.7"
  }
 },
 "nbformat": 4,
 "nbformat_minor": 5
}
